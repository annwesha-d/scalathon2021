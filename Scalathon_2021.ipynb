{
 "cells": [
  {
   "cell_type": "code",
   "execution_count": 1,
   "metadata": {},
   "outputs": [],
   "source": [
    "import pandas as pd\n",
    "import numpy as np"
   ]
  },
  {
   "cell_type": "code",
   "execution_count": 2,
   "metadata": {},
   "outputs": [],
   "source": [
    "customer = pd.read_excel('Customer.xlsx')"
   ]
  },
  {
   "cell_type": "code",
   "execution_count": 3,
   "metadata": {},
   "outputs": [],
   "source": [
    "reviews = pd.read_excel('Reviews.xlsx')"
   ]
  },
  {
   "cell_type": "code",
   "execution_count": 10,
   "metadata": {},
   "outputs": [],
   "source": [
    "sales_train = pd.read_excel('Sales.xlsx', sheet_name='Train')"
   ]
  },
  {
   "cell_type": "code",
   "execution_count": 12,
   "metadata": {},
   "outputs": [],
   "source": [
    "sales_test = pd.read_excel('Sales.xlsx', sheet_name='Test')"
   ]
  },
  {
   "cell_type": "code",
   "execution_count": null,
   "metadata": {},
   "outputs": [],
   "source": []
  },
  {
   "cell_type": "code",
   "execution_count": 13,
   "metadata": {},
   "outputs": [
    {
     "data": {
      "text/html": [
       "<div>\n",
       "<style scoped>\n",
       "    .dataframe tbody tr th:only-of-type {\n",
       "        vertical-align: middle;\n",
       "    }\n",
       "\n",
       "    .dataframe tbody tr th {\n",
       "        vertical-align: top;\n",
       "    }\n",
       "\n",
       "    .dataframe thead th {\n",
       "        text-align: right;\n",
       "    }\n",
       "</style>\n",
       "<table border=\"1\" class=\"dataframe\">\n",
       "  <thead>\n",
       "    <tr style=\"text-align: right;\">\n",
       "      <th></th>\n",
       "      <th>Available Books in the shelf</th>\n",
       "      <th>Price</th>\n",
       "      <th>State</th>\n",
       "      <th>Time</th>\n",
       "      <th>Week</th>\n",
       "      <th>NewYear</th>\n",
       "      <th>MLK</th>\n",
       "      <th>Presidents</th>\n",
       "      <th>GoodFriday</th>\n",
       "      <th>Memorial</th>\n",
       "      <th>Independence</th>\n",
       "      <th>Labor</th>\n",
       "      <th>Thanksgiving</th>\n",
       "      <th>Christmas</th>\n",
       "      <th>BookCode</th>\n",
       "    </tr>\n",
       "  </thead>\n",
       "  <tbody>\n",
       "    <tr>\n",
       "      <th>0</th>\n",
       "      <td>5123.0</td>\n",
       "      <td>14.106784</td>\n",
       "      <td>Arizona</td>\n",
       "      <td>Week End 11-03-19</td>\n",
       "      <td>2019-11-03</td>\n",
       "      <td>0</td>\n",
       "      <td>0</td>\n",
       "      <td>0</td>\n",
       "      <td>0</td>\n",
       "      <td>0</td>\n",
       "      <td>0</td>\n",
       "      <td>0</td>\n",
       "      <td>0</td>\n",
       "      <td>0</td>\n",
       "      <td>22722</td>\n",
       "    </tr>\n",
       "    <tr>\n",
       "      <th>1</th>\n",
       "      <td>10064.0</td>\n",
       "      <td>13.935992</td>\n",
       "      <td>Arizona</td>\n",
       "      <td>Week End 11-10-19</td>\n",
       "      <td>2019-11-10</td>\n",
       "      <td>0</td>\n",
       "      <td>0</td>\n",
       "      <td>0</td>\n",
       "      <td>0</td>\n",
       "      <td>0</td>\n",
       "      <td>0</td>\n",
       "      <td>0</td>\n",
       "      <td>0</td>\n",
       "      <td>0</td>\n",
       "      <td>22722</td>\n",
       "    </tr>\n",
       "    <tr>\n",
       "      <th>2</th>\n",
       "      <td>8299.0</td>\n",
       "      <td>13.792752</td>\n",
       "      <td>Arizona</td>\n",
       "      <td>Week End 11-17-19</td>\n",
       "      <td>2019-11-17</td>\n",
       "      <td>0</td>\n",
       "      <td>0</td>\n",
       "      <td>0</td>\n",
       "      <td>0</td>\n",
       "      <td>0</td>\n",
       "      <td>0</td>\n",
       "      <td>0</td>\n",
       "      <td>0</td>\n",
       "      <td>0</td>\n",
       "      <td>22722</td>\n",
       "    </tr>\n",
       "    <tr>\n",
       "      <th>3</th>\n",
       "      <td>6970.0</td>\n",
       "      <td>13.946064</td>\n",
       "      <td>Arizona</td>\n",
       "      <td>Week End 11-24-19</td>\n",
       "      <td>2019-11-24</td>\n",
       "      <td>0</td>\n",
       "      <td>0</td>\n",
       "      <td>0</td>\n",
       "      <td>0</td>\n",
       "      <td>0</td>\n",
       "      <td>0</td>\n",
       "      <td>0</td>\n",
       "      <td>0</td>\n",
       "      <td>0</td>\n",
       "      <td>22722</td>\n",
       "    </tr>\n",
       "    <tr>\n",
       "      <th>4</th>\n",
       "      <td>9207.0</td>\n",
       "      <td>14.167042</td>\n",
       "      <td>Arizona</td>\n",
       "      <td>Week End 12-01-19</td>\n",
       "      <td>2019-12-01</td>\n",
       "      <td>0</td>\n",
       "      <td>0</td>\n",
       "      <td>0</td>\n",
       "      <td>0</td>\n",
       "      <td>0</td>\n",
       "      <td>0</td>\n",
       "      <td>0</td>\n",
       "      <td>1</td>\n",
       "      <td>0</td>\n",
       "      <td>22722</td>\n",
       "    </tr>\n",
       "  </tbody>\n",
       "</table>\n",
       "</div>"
      ],
      "text/plain": [
       "   Available Books in the shelf      Price    State               Time  \\\n",
       "0                        5123.0  14.106784  Arizona  Week End 11-03-19   \n",
       "1                       10064.0  13.935992  Arizona  Week End 11-10-19   \n",
       "2                        8299.0  13.792752  Arizona  Week End 11-17-19   \n",
       "3                        6970.0  13.946064  Arizona  Week End 11-24-19   \n",
       "4                        9207.0  14.167042  Arizona  Week End 12-01-19   \n",
       "\n",
       "        Week  NewYear  MLK  Presidents  GoodFriday  Memorial  Independence  \\\n",
       "0 2019-11-03        0    0           0           0         0             0   \n",
       "1 2019-11-10        0    0           0           0         0             0   \n",
       "2 2019-11-17        0    0           0           0         0             0   \n",
       "3 2019-11-24        0    0           0           0         0             0   \n",
       "4 2019-12-01        0    0           0           0         0             0   \n",
       "\n",
       "   Labor  Thanksgiving  Christmas  BookCode  \n",
       "0      0             0          0     22722  \n",
       "1      0             0          0     22722  \n",
       "2      0             0          0     22722  \n",
       "3      0             0          0     22722  \n",
       "4      0             1          0     22722  "
      ]
     },
     "execution_count": 13,
     "metadata": {},
     "output_type": "execute_result"
    }
   ],
   "source": [
    "sales_test.head()"
   ]
  }
 ],
 "metadata": {
  "kernelspec": {
   "display_name": "Python 3",
   "language": "python",
   "name": "python3"
  },
  "language_info": {
   "codemirror_mode": {
    "name": "ipython",
    "version": 3
   },
   "file_extension": ".py",
   "mimetype": "text/x-python",
   "name": "python",
   "nbconvert_exporter": "python",
   "pygments_lexer": "ipython3",
   "version": "3.8.3"
  }
 },
 "nbformat": 4,
 "nbformat_minor": 4
}
